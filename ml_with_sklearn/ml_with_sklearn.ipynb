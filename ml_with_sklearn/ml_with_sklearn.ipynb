{
  "nbformat": 4,
  "nbformat_minor": 0,
  "metadata": {
    "colab": {
      "provenance": [],
      "collapsed_sections": []
    },
    "kernelspec": {
      "name": "python3",
      "display_name": "Python 3"
    },
    "language_info": {
      "name": "python"
    }
  },
  "cells": [
    {
      "cell_type": "markdown",
      "source": [
        "# Machine Learning with sklearn\n"
      ],
      "metadata": {
        "id": "gBtEio5pILFN"
      }
    },
    {
      "cell_type": "markdown",
      "source": [
        "By Aditi Chaudhari"
      ],
      "metadata": {
        "id": "8Ln2rVsUZ-PE"
      }
    },
    {
      "cell_type": "markdown",
      "source": [
        "## Reading the Auto Data"
      ],
      "metadata": {
        "id": "_w8Nme-ZIFkr"
      }
    },
    {
      "cell_type": "markdown",
      "source": [
        "First, the data from Auto.csv is read into a dataframe. "
      ],
      "metadata": {
        "id": "VLvT_jbpmSbq"
      }
    },
    {
      "cell_type": "code",
      "execution_count": 39,
      "metadata": {
        "colab": {
          "base_uri": "https://localhost:8080/"
        },
        "id": "MmUv6hkaDIEu",
        "outputId": "d3de65ac-32a7-4be0-9d0d-577c482754c4"
      },
      "outputs": [
        {
          "output_type": "stream",
          "name": "stdout",
          "text": [
            "Auto data: \n",
            "    mpg  cylinders  displacement  horsepower  weight  acceleration  year  \\\n",
            "0  18.0          8         307.0         130    3504          12.0  70.0   \n",
            "1  15.0          8         350.0         165    3693          11.5  70.0   \n",
            "2  18.0          8         318.0         150    3436          11.0  70.0   \n",
            "3  16.0          8         304.0         150    3433          12.0  70.0   \n",
            "4  17.0          8         302.0         140    3449           NaN  70.0   \n",
            "\n",
            "   origin                       name  \n",
            "0       1  chevrolet chevelle malibu  \n",
            "1       1          buick skylark 320  \n",
            "2       1         plymouth satellite  \n",
            "3       1              amc rebel sst  \n",
            "4       1                ford torino  \n",
            "\n",
            "Dimensions of data frame:  (392, 9)\n"
          ]
        }
      ],
      "source": [
        "import pandas as pd\n",
        "\n",
        "# use pandas to read the data\n",
        "url = 'https://raw.githubusercontent.com/aditi-chaudhari/machine_learning_portfolio/main/ml_with_sklearn/Auto.csv'\n",
        "df = pd.read_csv(url)\n",
        "\n",
        "# outputting the first few rows of the data frame\n",
        "print(\"Auto data: \")\n",
        "print(df.head())\n",
        "\n",
        "# outputting the dimensions of the data\n",
        "print()\n",
        "print(\"Dimensions of data frame: \", df.shape)\n"
      ]
    },
    {
      "cell_type": "markdown",
      "source": [
        "## Data Exploration with Code"
      ],
      "metadata": {
        "id": "iehZxsVUIY6K"
      }
    },
    {
      "cell_type": "markdown",
      "source": [
        "Next, we want to explore the data. We specifically want to find out more for the mpg, weight, and year columns. For mpg, the range lies between 9 and 46 and the average is 23.445928. For weight, the range lies between 1613 and 5140 and the average is 2977.584184. For year, the range lies between 70 and 82 and the average is 76.010256. "
      ],
      "metadata": {
        "id": "bqYD4W4vmazZ"
      }
    },
    {
      "cell_type": "code",
      "source": [
        "# using describe() on the mpg, weight, and year columns\n",
        "print(\"Describe() for mpg, weight, and year: \")\n",
        "df2 = df[['mpg','weight','year']]\n",
        "print(df2.describe())\n",
        "\n",
        "# for mpg, the range lies between 9 and 46. the average is 23.445928.\n",
        "# for weight, the range lies between 1613 and 5140. the average is 2977.584184.\n",
        "# for year, the range lies between 70 and 82. the average is 76.010256. \n"
      ],
      "metadata": {
        "colab": {
          "base_uri": "https://localhost:8080/"
        },
        "id": "7z6BK3OXIdix",
        "outputId": "1365064c-5bdb-4781-a037-d43ec39031c5"
      },
      "execution_count": 40,
      "outputs": [
        {
          "output_type": "stream",
          "name": "stdout",
          "text": [
            "Describe() for mpg, weight, and year: \n",
            "              mpg       weight        year\n",
            "count  392.000000   392.000000  390.000000\n",
            "mean    23.445918  2977.584184   76.010256\n",
            "std      7.805007   849.402560    3.668093\n",
            "min      9.000000  1613.000000   70.000000\n",
            "25%     17.000000  2225.250000   73.000000\n",
            "50%     22.750000  2803.500000   76.000000\n",
            "75%     29.000000  3614.750000   79.000000\n",
            "max     46.600000  5140.000000   82.000000\n"
          ]
        }
      ]
    },
    {
      "cell_type": "markdown",
      "source": [
        "## Explore Data Types"
      ],
      "metadata": {
        "id": "TPq5z7ieLxZ2"
      }
    },
    {
      "cell_type": "markdown",
      "source": [
        "After that, we want to explore the data types of each column. Certain columns need to be made categorical, as well. "
      ],
      "metadata": {
        "id": "jQC4kmKwmomS"
      }
    },
    {
      "cell_type": "code",
      "source": [
        "# check the data types of all columns\n",
        "print(\"The data type of each column is: \")\n",
        "print(df.dtypes)\n",
        "\n",
        "# change the cylinders column to categorical\n",
        "df.cylinders = df.cylinders.astype('category').cat.codes\n",
        "\n",
        "# change the origin column to categorical \n",
        "df.origin = df.origin.astype('category')\n",
        "\n",
        "# verify the changes with the dtypes attribute\n",
        "print()\n",
        "print(\"After changing the cylinder column and the origin column to categorical, the data type of each column is: \")\n",
        "print(df.dtypes)\n"
      ],
      "metadata": {
        "colab": {
          "base_uri": "https://localhost:8080/"
        },
        "id": "oT3SmlKcL2tX",
        "outputId": "e01f69ac-1fb3-40d3-a6e7-68ad072cad48"
      },
      "execution_count": 41,
      "outputs": [
        {
          "output_type": "stream",
          "name": "stdout",
          "text": [
            "The data type of each column is: \n",
            "mpg             float64\n",
            "cylinders         int64\n",
            "displacement    float64\n",
            "horsepower        int64\n",
            "weight            int64\n",
            "acceleration    float64\n",
            "year            float64\n",
            "origin            int64\n",
            "name             object\n",
            "dtype: object\n",
            "\n",
            "After changing the cylinder column and the origin column to categorical, the data type of each column is: \n",
            "mpg              float64\n",
            "cylinders           int8\n",
            "displacement     float64\n",
            "horsepower         int64\n",
            "weight             int64\n",
            "acceleration     float64\n",
            "year             float64\n",
            "origin          category\n",
            "name              object\n",
            "dtype: object\n"
          ]
        }
      ]
    },
    {
      "cell_type": "markdown",
      "source": [
        "## Deal with NAs"
      ],
      "metadata": {
        "id": "OYp7ecZCN8GD"
      }
    },
    {
      "cell_type": "markdown",
      "source": [
        "To further clean up our data, we need to get rid of the rows with N/As."
      ],
      "metadata": {
        "id": "EFJec6ZpmzPS"
      }
    },
    {
      "cell_type": "code",
      "source": [
        "# delete rows with NAs & output the new dimensions\n",
        "df = df.dropna()\n",
        "\n",
        "print(\"After deleting rows with N/As, the new dimensions of the data frame are: \", df.shape)\n",
        "\n"
      ],
      "metadata": {
        "colab": {
          "base_uri": "https://localhost:8080/"
        },
        "id": "tOmHdbFTOCXR",
        "outputId": "12de70b7-0b26-4ea9-9641-b7245fa3a2a9"
      },
      "execution_count": 42,
      "outputs": [
        {
          "output_type": "stream",
          "name": "stdout",
          "text": [
            "After deleting rows with N/As, the new dimensions of the data frame are:  (389, 9)\n"
          ]
        }
      ]
    },
    {
      "cell_type": "markdown",
      "source": [
        "## Modifying Columns"
      ],
      "metadata": {
        "id": "kxTu1yb4RZ6d"
      }
    },
    {
      "cell_type": "markdown",
      "source": [
        "Next, we need to create a new column for cars with a higher than average mpg. We also need to drop the previous mpg column since we don't want our machine learning model to learn from it and we need to drop the name column since it is not numerical. \n"
      ],
      "metadata": {
        "id": "EW5a8-LNnBBI"
      }
    },
    {
      "cell_type": "code",
      "source": [
        "# make a new column, mpg_high, and make it categorical: the column == 1 if mpg > average mpg, else == 0\n",
        "avg_mpg = df['mpg'].mean()\n",
        "df['mpg_high'] = pd.cut(df['mpg'], bins=[0, avg_mpg, float('Inf')] , labels=[0,1])\n",
        "\n",
        "# delete the mpg and name columns\n",
        "df.drop('mpg', inplace=True, axis=1)\n",
        "df.drop('name', inplace=True, axis=1)\n",
        "\n",
        "# output the first few rows of the modified data frame\n",
        "print(\"After creating a new column and deleting two columns, the first few rows of the data frame look like: \")\n",
        "print(df.head())\n"
      ],
      "metadata": {
        "colab": {
          "base_uri": "https://localhost:8080/"
        },
        "id": "oLvixGPhRdGF",
        "outputId": "0607e53c-3623-4bd8-c1fe-2ef43d01b1f9"
      },
      "execution_count": 43,
      "outputs": [
        {
          "output_type": "stream",
          "name": "stdout",
          "text": [
            "After creating a new column and deleting two columns, the first few rows of the data frame look like: \n",
            "   cylinders  displacement  horsepower  weight  acceleration  year origin  \\\n",
            "0          4         307.0         130    3504          12.0  70.0      1   \n",
            "1          4         350.0         165    3693          11.5  70.0      1   \n",
            "2          4         318.0         150    3436          11.0  70.0      1   \n",
            "3          4         304.0         150    3433          12.0  70.0      1   \n",
            "6          4         454.0         220    4354           9.0  70.0      1   \n",
            "\n",
            "  mpg_high  \n",
            "0        0  \n",
            "1        0  \n",
            "2        0  \n",
            "3        0  \n",
            "6        0  \n"
          ]
        }
      ]
    },
    {
      "cell_type": "markdown",
      "source": [
        "## Data exploration with Graphs"
      ],
      "metadata": {
        "id": "EyIJ4Mb5W-fo"
      }
    },
    {
      "cell_type": "markdown",
      "source": [
        "Next, we want compare how many cars have a high mpg to how many cars don't. We use a seaborn catplot to find this out. One thing we can learn from the catplot is that the amount of 1s (mpg > avg_mpg) is similar to the amount of 0s (mpg <= avg_mpg)"
      ],
      "metadata": {
        "id": "nqLYqOvUpaKb"
      }
    },
    {
      "cell_type": "code",
      "source": [
        "import seaborn as sb\n",
        "\n",
        "# seaborn catplot on the mpg_high column\n",
        "sb.catplot(x='mpg_high', kind='count', data=df)"
      ],
      "metadata": {
        "colab": {
          "base_uri": "https://localhost:8080/",
          "height": 386
        },
        "id": "t2bd3c-sW_-h",
        "outputId": "6fab4b0e-22f6-4bc8-8bc6-6b10e31eff88"
      },
      "execution_count": 44,
      "outputs": [
        {
          "output_type": "execute_result",
          "data": {
            "text/plain": [
              "<seaborn.axisgrid.FacetGrid at 0x7f79f7b26710>"
            ]
          },
          "metadata": {},
          "execution_count": 44
        },
        {
          "output_type": "display_data",
          "data": {
            "text/plain": [
              "<Figure size 360x360 with 1 Axes>"
            ],
            "image/png": "[encoded data removed]"
          },
          "metadata": {
            "needs_background": "light"
          }
        }
      ]
    },
    {
      "cell_type": "markdown",
      "source": [
        "We also want to see how a high mpg compares to the weight of a car and the horsepower of a car. We can achieve this using a seaborn relplot. One thing we can learn from the relplot is that the mpg is lower than the average in a car with a higher weight and larger horsepower"
      ],
      "metadata": {
        "id": "_b_ZJqG6plWC"
      }
    },
    {
      "cell_type": "code",
      "source": [
        "# seaborn relplot with horsepower on the x axis, weight on the y axis, setting hue or style to mpg_high\n",
        "sb.relplot(x='horsepower', y= 'weight', data=df, hue=df.mpg_high)"
      ],
      "metadata": {
        "colab": {
          "base_uri": "https://localhost:8080/",
          "height": 386
        },
        "id": "ceGm06mTZg_t",
        "outputId": "48dc8261-b648-4f87-bf3f-0d2ab0b28a3a"
      },
      "execution_count": 45,
      "outputs": [
        {
          "output_type": "execute_result",
          "data": {
            "text/plain": [
              "<seaborn.axisgrid.FacetGrid at 0x7f79f7a59450>"
            ]
          },
          "metadata": {},
          "execution_count": 45
        },
        {
          "output_type": "display_data",
          "data": {
            "text/plain": [
              "<Figure size 417.25x360 with 1 Axes>"
            ],
            "image/png": "[encoded data removed]"
          },
          "metadata": {
            "needs_background": "light"
          }
        }
      ]
    },
    {
      "cell_type": "markdown",
      "source": [
        "Finally, we want to see how a high mpg compares to the weight of a car. This can be done with a seaborn boxplot. One thing we can learn from the boxplot is that 50% of the data in the 1 catergory (mpg <= avg_mpg) occur at lower weights (between 2000 and 2500 pounds)"
      ],
      "metadata": {
        "id": "VdEWz1zUpvtk"
      }
    },
    {
      "cell_type": "code",
      "source": [
        "# seaborn boxplot with mpg_high on the x axis and weight on the y axis\n",
        "sb.boxplot(x='mpg_high', y='weight',data=df)\n"
      ],
      "metadata": {
        "colab": {
          "base_uri": "https://localhost:8080/",
          "height": 297
        },
        "id": "hcUri8BpbEV5",
        "outputId": "60e98c65-da68-45ba-92a0-62eb88a9d763"
      },
      "execution_count": 46,
      "outputs": [
        {
          "output_type": "execute_result",
          "data": {
            "text/plain": [
              "<matplotlib.axes._subplots.AxesSubplot at 0x7f79f79a5a90>"
            ]
          },
          "metadata": {},
          "execution_count": 46
        },
        {
          "output_type": "display_data",
          "data": {
            "text/plain": [
              "<Figure size 432x288 with 1 Axes>"
            ],
            "image/png": "[encoded data removed]"
          },
          "metadata": {
            "needs_background": "light"
          }
        }
      ]
    },
    {
      "cell_type": "markdown",
      "source": [
        "## Train/Test Split"
      ],
      "metadata": {
        "id": "OiS9TbT-c19c"
      }
    },
    {
      "cell_type": "markdown",
      "source": [
        "Next, let us split our data into a train set and a test set to perform machine learning algorithms on them. We chose a 80/20 split and made sure to remove the mpg_high column from our training data since it is what we are predicting and we don't want our algorithm to learn from it. "
      ],
      "metadata": {
        "id": "sR2MH_I3p76s"
      }
    },
    {
      "cell_type": "code",
      "source": [
        "from sklearn.model_selection import train_test_split\n",
        "\n",
        "\n",
        "X = df.loc[:, ['cylinders', 'displacement', 'horsepower', 'weight', 'acceleration', 'year', 'origin']]\n",
        "y = df.mpg_high\n",
        "\n",
        "X_train, X_test, y_train, y_test = train_test_split(X, y, test_size=0.2, random_state=1234)\n",
        "\n",
        "print('train size:', X_train.shape)\n",
        "print('test size:', X_test.shape)\n"
      ],
      "metadata": {
        "colab": {
          "base_uri": "https://localhost:8080/"
        },
        "id": "5ZFqFdrBc0Yv",
        "outputId": "2732ab30-0965-4250-efde-3d1f0a9572f8"
      },
      "execution_count": 47,
      "outputs": [
        {
          "output_type": "stream",
          "name": "stdout",
          "text": [
            "train size: (311, 7)\n",
            "test size: (78, 7)\n"
          ]
        }
      ]
    },
    {
      "cell_type": "markdown",
      "source": [
        "## Logistic Regression"
      ],
      "metadata": {
        "id": "KQ-9a5TnkIQX"
      }
    },
    {
      "cell_type": "markdown",
      "source": [
        "The first machine learning algorithm we use for our data was logistic regression. We wanted to use our predictors to classify if a car has a higher than average mpg or not. Our model had a pretty good accuracy of 86%. "
      ],
      "metadata": {
        "id": "dqCT0DAIreYk"
      }
    },
    {
      "cell_type": "code",
      "source": [
        "from sklearn.linear_model import LogisticRegression\n",
        "from sklearn.metrics import classification_report\n",
        "\n",
        "# train a logistic regression model using solver lbfgs\n",
        "lr = LogisticRegression()\n",
        "lr.fit(X_train, y_train)\n",
        "lr.score(X_train, y_train)\n",
        "\n",
        "# test and evaluate\n",
        "lr_pred = lr.predict(X_test)\n",
        "\n",
        "print(classification_report(y_test, lr_pred))\n"
      ],
      "metadata": {
        "colab": {
          "base_uri": "https://localhost:8080/"
        },
        "id": "5DDmaEFvkKm2",
        "outputId": "109768cc-5bfc-4e6f-81d5-3789205fdb91"
      },
      "execution_count": 60,
      "outputs": [
        {
          "output_type": "stream",
          "name": "stdout",
          "text": [
            "              precision    recall  f1-score   support\n",
            "\n",
            "           0       0.98      0.80      0.88        50\n",
            "           1       0.73      0.96      0.83        28\n",
            "\n",
            "    accuracy                           0.86        78\n",
            "   macro avg       0.85      0.88      0.85        78\n",
            "weighted avg       0.89      0.86      0.86        78\n",
            "\n"
          ]
        },
        {
          "output_type": "stream",
          "name": "stderr",
          "text": [
            "/usr/local/lib/python3.7/dist-packages/sklearn/linear_model/_logistic.py:818: ConvergenceWarning: lbfgs failed to converge (status=1):\n",
            "STOP: TOTAL NO. of ITERATIONS REACHED LIMIT.\n",
            "\n",
            "Increase the number of iterations (max_iter) or scale the data as shown in:\n",
            "    https://scikit-learn.org/stable/modules/preprocessing.html\n",
            "Please also refer to the documentation for alternative solver options:\n",
            "    https://scikit-learn.org/stable/modules/linear_model.html#logistic-regression\n",
            "  extra_warning_msg=_LOGISTIC_SOLVER_CONVERGENCE_MSG,\n"
          ]
        }
      ]
    },
    {
      "cell_type": "markdown",
      "source": [
        "## Decision Tree"
      ],
      "metadata": {
        "id": "FnzitkNnoeVi"
      }
    },
    {
      "cell_type": "markdown",
      "source": [
        "Next, we built a decision tree to classify cars with higher than average mpgs. Our decision tree algorithm did not converge, but it gave us an accuracy of 92%. "
      ],
      "metadata": {
        "id": "u5IIVZB1srzc"
      }
    },
    {
      "cell_type": "code",
      "source": [
        "from sklearn.tree import DecisionTreeClassifier\n",
        "\n",
        "# train a decision tree\n",
        "dt = DecisionTreeClassifier()\n",
        "dt.fit(X_train, y_train)\n",
        "\n",
        "# test and evaluate\n",
        "dt_pred = dt.predict(X_test)\n",
        "\n",
        "print(classification_report(y_test, dt_pred))\n",
        "\n",
        "\n",
        "\n"
      ],
      "metadata": {
        "colab": {
          "base_uri": "https://localhost:8080/"
        },
        "id": "fn_djaBYohkl",
        "outputId": "b8d057e0-7a1f-499e-dcd8-da1ffb4e312c"
      },
      "execution_count": 62,
      "outputs": [
        {
          "output_type": "stream",
          "name": "stdout",
          "text": [
            "              precision    recall  f1-score   support\n",
            "\n",
            "           0       0.96      0.92      0.94        50\n",
            "           1       0.87      0.93      0.90        28\n",
            "\n",
            "    accuracy                           0.92        78\n",
            "   macro avg       0.91      0.92      0.92        78\n",
            "weighted avg       0.93      0.92      0.92        78\n",
            "\n"
          ]
        }
      ]
    },
    {
      "cell_type": "markdown",
      "source": [
        "We also attempted to visualize our decision tree, but since our tree had so many nodes, it is difficult to decipher. "
      ],
      "metadata": {
        "id": "FG2ZSliZtGyl"
      }
    },
    {
      "cell_type": "code",
      "source": [
        "from sklearn import tree\n",
        "tree.plot_tree(dt)"
      ],
      "metadata": {
        "colab": {
          "base_uri": "https://localhost:8080/",
          "height": 1000
        },
        "id": "jGdfqnm_sadV",
        "outputId": "9e8616a9-c971-4c8f-f352-1273a7cd3413"
      },
      "execution_count": 63,
      "outputs": [
        {
          "output_type": "execute_result",
          "data": {
            "text/plain": [
              "[Text(0.6433823529411765, 0.9444444444444444, 'X[0] <= 2.5\\ngini = 0.5\\nsamples = 311\\nvalue = [153, 158]'),\n",
              " Text(0.4338235294117647, 0.8333333333333334, 'X[2] <= 101.0\\ngini = 0.239\\nsamples = 173\\nvalue = [24, 149]'),\n",
              " Text(0.27941176470588236, 0.7222222222222222, 'X[5] <= 75.5\\ngini = 0.179\\nsamples = 161\\nvalue = [16, 145]'),\n",
              " Text(0.14705882352941177, 0.6111111111111112, 'X[1] <= 119.5\\ngini = 0.362\\nsamples = 59\\nvalue = [14, 45]'),\n",
              " Text(0.058823529411764705, 0.5, 'X[4] <= 13.75\\ngini = 0.159\\nsamples = 46\\nvalue = [4, 42]'),\n",
              " Text(0.029411764705882353, 0.3888888888888889, 'gini = 0.0\\nsamples = 2\\nvalue = [2, 0]'),\n",
              " Text(0.08823529411764706, 0.3888888888888889, 'X[3] <= 2683.0\\ngini = 0.087\\nsamples = 44\\nvalue = [2, 42]'),\n",
              " Text(0.058823529411764705, 0.2777777777777778, 'X[3] <= 2377.0\\ngini = 0.045\\nsamples = 43\\nvalue = [1, 42]'),\n",
              " Text(0.029411764705882353, 0.16666666666666666, 'gini = 0.0\\nsamples = 38\\nvalue = [0, 38]'),\n",
              " Text(0.08823529411764706, 0.16666666666666666, 'X[3] <= 2385.0\\ngini = 0.32\\nsamples = 5\\nvalue = [1, 4]'),\n",
              " Text(0.058823529411764705, 0.05555555555555555, 'gini = 0.0\\nsamples = 1\\nvalue = [1, 0]'),\n",
              " Text(0.11764705882352941, 0.05555555555555555, 'gini = 0.0\\nsamples = 4\\nvalue = [0, 4]'),\n",
              " Text(0.11764705882352941, 0.2777777777777778, 'gini = 0.0\\nsamples = 1\\nvalue = [1, 0]'),\n",
              " Text(0.23529411764705882, 0.5, 'X[3] <= 2567.0\\ngini = 0.355\\nsamples = 13\\nvalue = [10, 3]'),\n",
              " Text(0.20588235294117646, 0.3888888888888889, 'X[5] <= 73.5\\ngini = 0.469\\nsamples = 8\\nvalue = [5, 3]'),\n",
              " Text(0.17647058823529413, 0.2777777777777778, 'X[2] <= 88.0\\ngini = 0.278\\nsamples = 6\\nvalue = [5, 1]'),\n",
              " Text(0.14705882352941177, 0.16666666666666666, 'gini = 0.0\\nsamples = 4\\nvalue = [4, 0]'),\n",
              " Text(0.20588235294117646, 0.16666666666666666, 'X[3] <= 2336.0\\ngini = 0.5\\nsamples = 2\\nvalue = [1, 1]'),\n",
              " Text(0.17647058823529413, 0.05555555555555555, 'gini = 0.0\\nsamples = 1\\nvalue = [0, 1]'),\n",
              " Text(0.23529411764705882, 0.05555555555555555, 'gini = 0.0\\nsamples = 1\\nvalue = [1, 0]'),\n",
              " Text(0.23529411764705882, 0.2777777777777778, 'gini = 0.0\\nsamples = 2\\nvalue = [0, 2]'),\n",
              " Text(0.2647058823529412, 0.3888888888888889, 'gini = 0.0\\nsamples = 5\\nvalue = [5, 0]'),\n",
              " Text(0.4117647058823529, 0.6111111111111112, 'X[3] <= 3250.0\\ngini = 0.038\\nsamples = 102\\nvalue = [2, 100]'),\n",
              " Text(0.35294117647058826, 0.5, 'X[3] <= 2880.0\\ngini = 0.02\\nsamples = 100\\nvalue = [1, 99]'),\n",
              " Text(0.3235294117647059, 0.3888888888888889, 'gini = 0.0\\nsamples = 94\\nvalue = [0, 94]'),\n",
              " Text(0.38235294117647056, 0.3888888888888889, 'X[3] <= 2920.0\\ngini = 0.278\\nsamples = 6\\nvalue = [1, 5]'),\n",
              " Text(0.35294117647058826, 0.2777777777777778, 'gini = 0.0\\nsamples = 1\\nvalue = [1, 0]'),\n",
              " Text(0.4117647058823529, 0.2777777777777778, 'gini = 0.0\\nsamples = 5\\nvalue = [0, 5]'),\n",
              " Text(0.47058823529411764, 0.5, 'X[3] <= 3400.0\\ngini = 0.5\\nsamples = 2\\nvalue = [1, 1]'),\n",
              " Text(0.4411764705882353, 0.3888888888888889, 'gini = 0.0\\nsamples = 1\\nvalue = [1, 0]'),\n",
              " Text(0.5, 0.3888888888888889, 'gini = 0.0\\nsamples = 1\\nvalue = [0, 1]'),\n",
              " Text(0.5882352941176471, 0.7222222222222222, 'X[4] <= 14.45\\ngini = 0.444\\nsamples = 12\\nvalue = [8, 4]'),\n",
              " Text(0.5588235294117647, 0.6111111111111112, 'X[5] <= 76.0\\ngini = 0.444\\nsamples = 6\\nvalue = [2, 4]'),\n",
              " Text(0.5294117647058824, 0.5, 'gini = 0.0\\nsamples = 3\\nvalue = [0, 3]'),\n",
              " Text(0.5882352941176471, 0.5, 'X[2] <= 107.5\\ngini = 0.444\\nsamples = 3\\nvalue = [2, 1]'),\n",
              " Text(0.5588235294117647, 0.3888888888888889, 'gini = 0.0\\nsamples = 1\\nvalue = [0, 1]'),\n",
              " Text(0.6176470588235294, 0.3888888888888889, 'gini = 0.0\\nsamples = 2\\nvalue = [2, 0]'),\n",
              " Text(0.6176470588235294, 0.6111111111111112, 'gini = 0.0\\nsamples = 6\\nvalue = [6, 0]'),\n",
              " Text(0.8529411764705882, 0.8333333333333334, 'X[5] <= 79.5\\ngini = 0.122\\nsamples = 138\\nvalue = [129, 9]'),\n",
              " Text(0.7941176470588235, 0.7222222222222222, 'X[4] <= 21.6\\ngini = 0.045\\nsamples = 129\\nvalue = [126, 3]'),\n",
              " Text(0.7647058823529411, 0.6111111111111112, 'X[3] <= 2737.0\\ngini = 0.031\\nsamples = 128\\nvalue = [126, 2]'),\n",
              " Text(0.7058823529411765, 0.5, 'X[3] <= 2674.0\\ngini = 0.444\\nsamples = 3\\nvalue = [2, 1]'),\n",
              " Text(0.6764705882352942, 0.3888888888888889, 'gini = 0.0\\nsamples = 2\\nvalue = [2, 0]'),\n",
              " Text(0.7352941176470589, 0.3888888888888889, 'gini = 0.0\\nsamples = 1\\nvalue = [0, 1]'),\n",
              " Text(0.8235294117647058, 0.5, 'X[2] <= 83.0\\ngini = 0.016\\nsamples = 125\\nvalue = [124, 1]'),\n",
              " Text(0.7941176470588235, 0.3888888888888889, 'X[3] <= 3085.0\\ngini = 0.375\\nsamples = 4\\nvalue = [3, 1]'),\n",
              " Text(0.7647058823529411, 0.2777777777777778, 'gini = 0.0\\nsamples = 1\\nvalue = [0, 1]'),\n",
              " Text(0.8235294117647058, 0.2777777777777778, 'gini = 0.0\\nsamples = 3\\nvalue = [3, 0]'),\n",
              " Text(0.8529411764705882, 0.3888888888888889, 'gini = 0.0\\nsamples = 121\\nvalue = [121, 0]'),\n",
              " Text(0.8235294117647058, 0.6111111111111112, 'gini = 0.0\\nsamples = 1\\nvalue = [0, 1]'),\n",
              " Text(0.9117647058823529, 0.7222222222222222, 'X[1] <= 196.5\\ngini = 0.444\\nsamples = 9\\nvalue = [3, 6]'),\n",
              " Text(0.8823529411764706, 0.6111111111111112, 'gini = 0.0\\nsamples = 4\\nvalue = [0, 4]'),\n",
              " Text(0.9411764705882353, 0.6111111111111112, 'X[1] <= 247.0\\ngini = 0.48\\nsamples = 5\\nvalue = [3, 2]'),\n",
              " Text(0.9117647058823529, 0.5, 'gini = 0.0\\nsamples = 3\\nvalue = [3, 0]'),\n",
              " Text(0.9705882352941176, 0.5, 'gini = 0.0\\nsamples = 2\\nvalue = [0, 2]')]"
            ]
          },
          "metadata": {},
          "execution_count": 63
        },
        {
          "output_type": "display_data",
          "data": {
            "text/plain": [
              "<Figure size 432x288 with 1 Axes>"
            ],
            "image/png": "[encoded data removed]"
          },
          "metadata": {
            "needs_background": "light"
          }
        }
      ]
    },
    {
      "cell_type": "markdown",
      "source": [
        "## Neural Network"
      ],
      "metadata": {
        "id": "ujc61oTht6wY"
      }
    },
    {
      "cell_type": "markdown",
      "source": [
        "Finally, we wanted to predict whether a car had a higher than average mpg or not using neural networks. Two neural networks with different network topologies were built in order to find a more accurate model. "
      ],
      "metadata": {
        "id": "3ST8RZCWtand"
      }
    },
    {
      "cell_type": "markdown",
      "source": [
        "First, a neural network was built with two hidden layers. The first layer had 3 nodes and the second had 2 nodes. Our first model got an accuracy of 87%."
      ],
      "metadata": {
        "id": "rvA62AXt1D-h"
      }
    },
    {
      "cell_type": "code",
      "source": [
        "from sklearn.neural_network import MLPClassifier\n",
        "from sklearn import preprocessing\n",
        "\n",
        "# scale data\n",
        "scaler = preprocessing.StandardScaler().fit(X_train)\n",
        "\n",
        "X_train_scaled = scaler.transform(X_train)\n",
        "X_test_scaled = scaler.transform(X_test)\n",
        "\n",
        "# train a neural network, choosing a network topology of your choice\n",
        "nn = MLPClassifier(solver='lbfgs', hidden_layer_sizes=(3, 2), max_iter=500, random_state=1234)\n",
        "nn.fit(X_train_scaled, y_train)\n",
        "\n",
        "\n",
        "# test and evaluate\n",
        "nn_pred = nn.predict(X_test_scaled)\n",
        "\n",
        "print(classification_report(y_test, nn_pred))"
      ],
      "metadata": {
        "colab": {
          "base_uri": "https://localhost:8080/"
        },
        "id": "wU-LewFGt9Ui",
        "outputId": "9d5e75b9-7ddd-40cc-d271-755e4ec85158"
      },
      "execution_count": 64,
      "outputs": [
        {
          "output_type": "stream",
          "name": "stdout",
          "text": [
            "              precision    recall  f1-score   support\n",
            "\n",
            "           0       0.92      0.88      0.90        50\n",
            "           1       0.80      0.86      0.83        28\n",
            "\n",
            "    accuracy                           0.87        78\n",
            "   macro avg       0.86      0.87      0.86        78\n",
            "weighted avg       0.87      0.87      0.87        78\n",
            "\n"
          ]
        }
      ]
    },
    {
      "cell_type": "markdown",
      "source": [
        "Next, another neural network was built with a simpler architecture of only 5 nodes. Our second model got an accuracy of 86%. "
      ],
      "metadata": {
        "id": "Lxfwgg6Jtvqv"
      }
    },
    {
      "cell_type": "code",
      "source": [
        "nn = MLPClassifier(solver='lbfgs', hidden_layer_sizes=(5,), max_iter=500, random_state=1234)\n",
        "nn.fit(X_train_scaled, y_train)\n",
        "\n",
        "\n",
        "# test and evaluate\n",
        "nn_pred = nn.predict(X_test_scaled)\n",
        "\n",
        "print(classification_report(y_test, nn_pred))"
      ],
      "metadata": {
        "colab": {
          "base_uri": "https://localhost:8080/"
        },
        "id": "LExMIYIUzfCu",
        "outputId": "d5e5cb42-2403-49a6-8a5a-2f136be154ee"
      },
      "execution_count": 65,
      "outputs": [
        {
          "output_type": "stream",
          "name": "stdout",
          "text": [
            "              precision    recall  f1-score   support\n",
            "\n",
            "           0       0.93      0.84      0.88        50\n",
            "           1       0.76      0.89      0.82        28\n",
            "\n",
            "    accuracy                           0.86        78\n",
            "   macro avg       0.85      0.87      0.85        78\n",
            "weighted avg       0.87      0.86      0.86        78\n",
            "\n"
          ]
        }
      ]
    },
    {
      "cell_type": "markdown",
      "source": [
        "### Comparison of our Neural Network Models"
      ],
      "metadata": {
        "id": "-wZXfdt1uHRM"
      }
    },
    {
      "cell_type": "markdown",
      "source": [
        "Our first neural network model performed better simply because it had a more complex network topology. Based on Karen Mazidi's \"Machine Learning Handbook\", there are a few rules in order to find the number of hidden nodes. Firstly, the number of nodes can be between 1 and the number of predictors. Secondly, the number of nodes can be 2/3s of the input layer size plus the size of the output layer. Thirdly, the number of nodes can be below twice the input layer size. \n",
        "\n",
        "I used the second rule for the first neural network model, and got an accuracy of 87%. For the second neural network model, I just guessed one layer with five nodes, and got a worse accuracy. Because I guessed at the number of nodes for the second neural network model, I assume this is why it performed worse than the first. \n",
        "\n"
      ],
      "metadata": {
        "id": "NpzN0qCbuM8i"
      }
    },
    {
      "cell_type": "markdown",
      "source": [
        "## Analysis"
      ],
      "metadata": {
        "id": "a-A3kEnlTeGK"
      }
    },
    {
      "cell_type": "markdown",
      "source": [
        "After running a logistic regression algorithm, a decision tree algorithm, and two neural network algorithms to classify which cars have a higher than average mpg, it was determined that the decision tree performed the best. \n",
        "\n",
        "The decision tree had an accuracy of 92%, whereas logistic regression had an accuracy of 86% and the better performing neural network had an accuracy of 87%. The decision tree also had comparable or better recall than the other two models. Out of all of the cars that actually did have a higher than average mpg, the model only predicted this outcome correctly for 93% of the cars. In comparison, the logistic regression model had a recall of 96% and the better performing neural network had a recall of 86%. Out of all the cars that didn't have a higher than average mpg, the model predicted the outcome correctly for 92% of the cars. In comparison, the logistic regression model had a recall of 80% and the better performing neural network had one of 88%. The decision tree was also more precise than the other models. Out of the all the cars the model predicted would have a higher mpg than average, 87% actually did. The logistic regression model only had 73% precision, and the better performing neural network had 80% precision. Out of all the cars that the model predicted wouldn't have a higher than average mpg, 96% of them actually did. The logistic regression model had 98% precision and the better performing neural network only had 92% precision. Therefore, the decision tree performed the best. \n",
        "\n",
        "Although decision trees and logistic regression tend to have a similar performance for classification, the decison tree outperformed the logistic regression model because the relationship between the predictors and the target variable in this case was more complex and not linear. The decision tree also outperformed the neural network because neural networks generally do not outperform simpler models for small data. If the data set was larger and the function to learn was complex, then the neural network could have outperfomed the decision tree. \n",
        "\n",
        "After learning the foundations of machine learning with R, coding in Python with sklearn was a new experience. I enjoyed working with sklearn more than I did R. Python is my programming language of choice, so it was really exciting to finally be able to explore the data science libraries that Python has. Another reason I preferred Python over R is because Python was faster in training and testing models. I remember when I built a decision tree model in R, it took a while for the model to be built. But with Python, it was so quick. I definitely enjoyed using Python more. "
      ],
      "metadata": {
        "id": "608D033DTgzd"
      }
    }
  ]
}